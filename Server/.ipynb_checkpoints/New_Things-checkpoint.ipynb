{
 "cells": [
  {
   "cell_type": "code",
   "execution_count": 4,
   "metadata": {},
   "outputs": [],
   "source": [
    "import astropy.coordinates as cp\n",
    "import astropy.units as u\n",
    "import numpy as np\n",
    "from astroquery import simbad"
   ]
  },
  {
   "cell_type": "code",
   "execution_count": 20,
   "metadata": {},
   "outputs": [],
   "source": [
    "s = simbad.Simbad()\n",
    "s.remove_votable_fields('coordinates')\n",
    "s.add_votable_fields('id(NAME)', 'id(HD)', \"id(NGC)\",'ra','dec','otype(V)','sp','plx','z_value',\n",
    "                                        'flux(V)')\n",
    "\n",
    "s.TIMEOUT = 100000000\n",
    "first = s.query_catalog(\"NGC\")"
   ]
  },
  {
   "cell_type": "code",
   "execution_count": 78,
   "metadata": {},
   "outputs": [],
   "source": [
    "s.WILDCARDS = True\n",
    "s.add_votable_fields(\"id(NGC)\")\n",
    "sec = s.query_object(\"NGC ???\", wildcard=True)"
   ]
  },
  {
   "cell_type": "code",
   "execution_count": 79,
   "metadata": {},
   "outputs": [
    {
     "data": {
      "text/html": [
       "&lt;Table masked=True length=940&gt;\n",
       "<table id=\"table140465593477456\" class=\"table-striped table-bordered table-condensed\">\n",
       "<thead><tr><th>MAIN_ID</th><th>ID_NAME</th><th>ID_HD</th><th>RA</th><th>DEC</th><th>OTYPE_V</th><th>SP_TYPE</th><th>PLX_VALUE</th><th>Z_VALUE</th><th>FLUX_V</th><th>ID</th><th>ID_NGC</th><th>ID_NGC_1</th></tr></thead>\n",
       "<thead><tr><th></th><th></th><th></th><th>&quot;h:m:s&quot;</th><th>&quot;d:m:s&quot;</th><th></th><th></th><th>mas</th><th></th><th>mag</th><th></th><th></th><th></th></tr></thead>\n",
       "<thead><tr><th>object</th><th>object</th><th>object</th><th>unicode13</th><th>unicode13</th><th>object</th><th>object</th><th>float64</th><th>float64</th><th>float32</th><th>object</th><th>object</th><th>object</th></tr></thead>\n",
       "<tr><td>NGC     1</td><td></td><td></td><td>00 07 15.825</td><td>+27 42 29.13</td><td>Galaxy in Pair of Galaxies</td><td></td><td>--</td><td>0.0152450</td><td>--</td><td>NGC 1, ALFALFA 2-17, IRAS 00047+2725, KPG 2a, LEDA 564, 2MASX J00071582+2742291, MCG+04-01-025, PSCz Q00047+2725, SDSS J000715.86+274229.0, UGC 57, UZC J000715.9+274229, Z 477-54, Z 478-26, Z 0004.6+2726, [BTW2003] J0007+2740, [M98c] 000441.3+272550</td><td>NGC 1</td><td>NGC 1</td></tr>\n",
       "<tr><td>NGC     2</td><td></td><td></td><td>00 07 17.104</td><td>+27 40 42.13</td><td>Galaxy in Pair of Galaxies</td><td></td><td>--</td><td>0.0250040</td><td>--</td><td>NGC 2, ALFALFA 2-18, KPG 2b, LEDA 567, 2MASX J00071710+2740421, MCG+04-01-026, SDSS J000717.11+274042.0, UGC 59, UZC J000717.1+274041, Z 477-55, Z 478-27, Z 0004.7+2724, [CHM2007] HDC 1 J000717.10+2740421, [CHM2007] LDC 2 J000717.10+2740421</td><td>NGC 2</td><td>NGC 2</td></tr>\n",
       "<tr><td>NGC     3</td><td></td><td></td><td>00 07 16.804</td><td>+08 18 05.84</td><td>Galaxy</td><td></td><td>--</td><td>0.0130090</td><td>--</td><td>NGC 3, Ark 1, IRAS 00047+0801, IRAS F00046+0801, LEDA 565, 2MASX J00071680+0818058, MCG+01-01-037, PSCz Q00047+0801, UGC 58, UZC J000716.8+081806, Z 408-35, Z 0004.7+0802</td><td>NGC 3</td><td>NGC 3</td></tr>\n",
       "<tr><td>NGC     4</td><td></td><td></td><td>00 07 24.4</td><td>+08 22 30</td><td>Galaxy</td><td></td><td>--</td><td>--</td><td>--</td><td>NGC 4, LEDA 212468</td><td>NGC 4</td><td>NGC 4</td></tr>\n",
       "<tr><td>NGC     5</td><td></td><td></td><td>00 07 48.898</td><td>+35 21 44.46</td><td>Galaxy</td><td></td><td>--</td><td>0.0167920</td><td>--</td><td>NGC 5, CGPG 0005.2+3505, LEDA 595, 2MASX J00074889+3521444, MCG+06-01-013, NPM1G +35.0003, UGC 62, UZC J000748.9+352144, ZW IV 7, Z 517-17, Z 518-12, Z 0005.2+3505</td><td>NGC 5</td><td>NGC 5</td></tr>\n",
       "<tr><td>NGC     7</td><td></td><td></td><td>00 08 20.3</td><td>-29 55 01</td><td>Galaxy</td><td></td><td>--</td><td>0.0050330</td><td>--</td><td>NGC 7, AGC 20097, AM 0005-301, APMBGC 409-066+005, DUGRS 409-001, ESO 409-22, ESO-LV 409-0220, GSC 06418-00253, HIPASS J0008-29, IRAS F00058-3011, LEDA 627, MCG-05-01-037, SGC 000548-3011.6</td><td>NGC 7</td><td>NGC 7</td></tr>\n",
       "<tr><td>NGC     8</td><td></td><td></td><td>00 08 45.3</td><td>+23 50 19</td><td>Double or multiple star</td><td></td><td>--</td><td>--</td><td>--</td><td>NGC 8, LEDA 648</td><td>NGC 8</td><td>NGC 8</td></tr>\n",
       "<tr><td>NGC     9</td><td></td><td></td><td>00 08 54.713</td><td>+23 49 00.92</td><td>Emission-line galaxy</td><td></td><td>--</td><td>0.0150870</td><td>--</td><td>NGC 9, ADBS J000900+2348, IRAS 00063+2332, IRAS F00063+2332, K73 6, KUG 0006+235, LEDA 652, 2MASX J00085471+2349009, MCG+04-01-030, PSCz Q00063+2332, UCM 0006+2332, UGC 78, UZC J000854.7+234903, Z 477-59, Z 478-31, Z 0006.3+2333, [RS2000] 4, [SS98c] 26</td><td>NGC 9</td><td>NGC 9</td></tr>\n",
       "<tr><td>NGC    10</td><td></td><td></td><td>00 08 34.535</td><td>-33 51 29.92</td><td>Emission-line galaxy</td><td></td><td>--</td><td>0.0227390</td><td>--</td><td>NGC 10, AGC 20098, AM 0006-340, APMBGC 349-068-049, 6dFGS gJ000834.5-335130, ESO 349-32, ESO-LV 349-0320, GSC 06992-00263, IRAS 00060-3408, IRAS F00060-3408, LEDA 634, 2MASX J00083453-3351299, MCG-06-01-024, NVSS J000834-335138, PSCz Q00060-3408, SGC 000602-3408.2, [CDB98] 1, [CDB98] VLG 0006-3408</td><td>NGC 10</td><td>NGC 10</td></tr>\n",
       "<tr><td>...</td><td>...</td><td>...</td><td>...</td><td>...</td><td>...</td><td>...</td><td>...</td><td>...</td><td>...</td><td>...</td><td>...</td><td>...</td></tr>\n",
       "<tr><td>NGC   991</td><td></td><td></td><td>02 35 32.685</td><td>-07 09 15.94</td><td>Low Surface Brightness Galaxy</td><td></td><td>--</td><td>0.0051260</td><td>--</td><td>NGC 991, AGC 420153, 6dFGS gJ023532.8-070916, HIPASS J0235-07, KUG 0233-073, LCSB L126, LEDA 9846, 2MASXI J0235327-070915, MCG-01-07-023, SDSS J023532.68-070915.9, TC 38</td><td>NGC 991</td><td>NGC 991</td></tr>\n",
       "<tr><td>NGC   992</td><td></td><td></td><td>02 37 25.491</td><td>+21 06 03.04</td><td>Galaxy in Group of Galaxies</td><td></td><td>--</td><td>0.0137600</td><td>--</td><td>NGC 992, Ark 88, BWE 0234+2052, GB6 B0234+2052, 87GB 023434.6+205241, IRAS 02345+2053, IRAS F02345+2053, LEDA 9938, 2MASX J02372549+2106030, MCG+03-07-035, NVSS J023725+210603, PSCz Q02345+2053, QDOT B0234358+205306, UGC 2103, UZC J023725.5+210602, WB 0234+2052, Z 462-35, Z 0234.6+2053, [BTW2003] J0236+2104, [CAB95] IRAS F02345+2053, [CHM2007] HDC 154 J023725.49+2106030, [CHM2007] LDC 168 J023725.49+2106030, [DC78] UGC 2103, [M98c] 023435.7+205256</td><td>NGC 992</td><td>NGC 992</td></tr>\n",
       "<tr><td>NGC   993</td><td></td><td></td><td>02 36 46.044</td><td>+02 03 01.53</td><td>Galaxy in Group of Galaxies</td><td></td><td>--</td><td>0.0233260</td><td>--</td><td>NGC 993, LEDA 9910, 2MASX J02364604+0203015, MCG+00-07-052, NGC 994, RASSCALS SRGb149.014, UGC 2095, UZC J023645.4+020259, Z 388-63, Z 0234.1+0150, [CHM2007] HDC 159 J023646.04+0203015, [CHM2007] LDC 179 J023646.04+0203015, [PVK2003] 039.19167 +02.04972</td><td>NGC 993</td><td>NGC 993</td></tr>\n",
       "<tr><td>NGC   995</td><td></td><td></td><td>02 38 32.027</td><td>+41 31 45.25</td><td>Galaxy in Group of Galaxies</td><td></td><td>--</td><td>0.0133900</td><td>--</td><td>NGC 995, LEDA 10008, 2MASX J02383202+4131452, MCG+07-06-044, UGC 2118, UZC J023832.0+413146, Z 539-63, Z 0235.3+4120, [CHM2007] LDC 224 J023832.02+4131452, [CHM2007] HDC 158 J023832.02+4131452, [WGB2006] 023518+41200 a</td><td>NGC 995</td><td>NGC 995</td></tr>\n",
       "<tr><td>NGC   996</td><td></td><td></td><td>02 38 39.865</td><td>+41 38 51.27</td><td>Galaxy in Group of Galaxies</td><td></td><td>--</td><td>0.0154090</td><td>--</td><td>NGC 996, LEDA 10015, 2MASX J02383986+4138512, MCG+07-06-045, UGC 2123, UZC J023839.8+413851, Z 539-64, Z 0235.5+4127, [BKB95] 0235+4125, [CHM2007] LDC 224 J023839.86+4138512, [CHM2007] HDC 158 J023839.86+4138512</td><td>NGC 996</td><td>NGC 996</td></tr>\n",
       "<tr><td>NGC   997</td><td></td><td></td><td>02 37 14.480</td><td>+07 18 20.13</td><td>Galaxy in Group of Galaxies</td><td></td><td>--</td><td>0.0216880</td><td>--</td><td>NGC 997, IRAS F02345+0705, LEDA 9932, 2MASX J02371447+0718201, MCG+01-07-016, NPM1G +07.0083, UGC 2102, UZC J023714.4+071822, Z 414-27, Z 0234.6+0705, [CCA99] UGC 2102b, [CHM2007] HDC 157 J023714.47+0718201, [CHM2007] LDC 181 J023714.47+0718201</td><td>NGC 997</td><td>NGC 997</td></tr>\n",
       "<tr><td>NGC   998</td><td></td><td></td><td>02 37 16.498</td><td>+07 20 09.13</td><td>Galaxy in Group of Galaxies</td><td></td><td>--</td><td>0.0218400</td><td>--</td><td>NGC 998, LEDA 9934, 2MASX J02371649+0720091, MCG+01-07-015, UZC J023716.6+072008</td><td>NGC 998</td><td>NGC 998</td></tr>\n",
       "<tr><td>NGC   999</td><td></td><td></td><td>02 38 47.451</td><td>+41 40 13.24</td><td>Galaxy in Group of Galaxies</td><td></td><td>--</td><td>0.0150970</td><td>--</td><td>NGC 999, IC 240, LEDA 10026, 2MASX J02384745+4140132, MCG+07-06-047, NPM1G +41.0077, UGC 2127, UZC J023847.5+414015, Z 539-66, Z 0235.6+4128, [CHM2007] HDC 158 J023847.45+4140132, [CHM2007] LDC 224 J023847.45+4140132</td><td>NGC 999</td><td>NGC 999</td></tr>\n",
       "<tr><td>NGC   317</td><td></td><td></td><td>00 57 40.0</td><td>+43 47 50</td><td>Pair of Galaxies</td><td></td><td>--</td><td>--</td><td>--</td><td>NGC 317, CGPG 0054.8+4331, KPG 19, NPM1G +43.0020, ZW V 42, Z 0054.8+4331, Z 536-13</td><td>NGC 317</td><td>NGC 317</td></tr>\n",
       "<tr><td>NGC   358</td><td></td><td></td><td>01 05 11.00</td><td>+62 01 18.0</td><td>Open (galactic) Cluster</td><td></td><td>--</td><td>--</td><td>--</td><td>NGC 358</td><td>NGC 358</td><td>NGC 358</td></tr>\n",
       "</table>"
      ],
      "text/plain": [
       "<Table masked=True length=940>\n",
       " MAIN_ID  ID_NAME ID_HD  ...  ID_NGC ID_NGC_1\n",
       "                         ...                 \n",
       "  object   object object ...  object  object \n",
       "--------- ------- ------ ... ------- --------\n",
       "NGC     1                ...   NGC 1    NGC 1\n",
       "NGC     2                ...   NGC 2    NGC 2\n",
       "NGC     3                ...   NGC 3    NGC 3\n",
       "NGC     4                ...   NGC 4    NGC 4\n",
       "NGC     5                ...   NGC 5    NGC 5\n",
       "NGC     7                ...   NGC 7    NGC 7\n",
       "NGC     8                ...   NGC 8    NGC 8\n",
       "NGC     9                ...   NGC 9    NGC 9\n",
       "NGC    10                ...  NGC 10   NGC 10\n",
       "      ...     ...    ... ...     ...      ...\n",
       "NGC   991                ... NGC 991  NGC 991\n",
       "NGC   992                ... NGC 992  NGC 992\n",
       "NGC   993                ... NGC 993  NGC 993\n",
       "NGC   995                ... NGC 995  NGC 995\n",
       "NGC   996                ... NGC 996  NGC 996\n",
       "NGC   997                ... NGC 997  NGC 997\n",
       "NGC   998                ... NGC 998  NGC 998\n",
       "NGC   999                ... NGC 999  NGC 999\n",
       "NGC   317                ... NGC 317  NGC 317\n",
       "NGC   358                ... NGC 358  NGC 358"
      ]
     },
     "execution_count": 79,
     "metadata": {},
     "output_type": "execute_result"
    }
   ],
   "source": [
    "sec\n"
   ]
  },
  {
   "cell_type": "code",
   "execution_count": 73,
   "metadata": {},
   "outputs": [
    {
     "name": "stdout",
     "output_type": "stream",
     "text": [
      "        MAIN_ID                 ID_NAME           ID_HD   ...  Z_VALUE   FLUX_V\n",
      "                                                          ...             mag  \n",
      "----------------------- ------------------------ -------- ... ---------- ------\n",
      "2MASS J00215163+2222055                                   ...         --     --\n",
      "                IC 1546                                   ...  0.0194470     --\n",
      "                  M  31    NAME Andromeda Nebula          ... -0.0010000   3.44\n",
      "                  M  32                                   ... -0.0006640   8.08\n",
      "                  M  33 NAME Triangulum Pinwheel          ... -0.0005980   5.72\n",
      "                  M  74                                   ...  0.0021880   9.46\n",
      "                  M  76         NAME Cork Nebula HD 10346 ... -0.0000790  17.48\n",
      "                  M 103                                   ... -0.0001350    7.4\n",
      "                  M 110                                   ... -0.0008200   8.07\n",
      "          MCG+05-01-070                                   ...  0.0227520     --\n",
      "          MCG-01-01-062                                   ...  0.0269190     --\n",
      "          MCG-01-01-063                                   ...  0.0268660     --\n",
      "               Mrk  547                                   ...  0.0169700     --\n",
      "               NAME SMC                 NAME SMC          ...  0.0004860    2.2\n",
      "              NGC     1                                   ...  0.0152450     --\n",
      "              NGC     2                                   ...  0.0250040     --\n",
      "              NGC     3                                   ...  0.0130090     --\n",
      "              NGC     4                                   ...         --     --\n",
      "              NGC     5                                   ...  0.0167920     --\n",
      "              NGC     7                                   ...  0.0050330     --\n"
     ]
    },
    {
     "data": {
      "text/html": [
       "&lt;Row index=218 masked=True&gt;\n",
       "<table id=\"table140466370852624\">\n",
       "<thead><tr><th>MAIN_ID</th><th>ID_NAME</th><th>ID_HD</th><th>RA</th><th>DEC</th><th>OTYPE_V</th><th>SP_TYPE</th><th>PLX_VALUE</th><th>Z_VALUE</th><th>FLUX_V</th></tr></thead>\n",
       "<thead><tr><th></th><th></th><th></th><th>&quot;h:m:s&quot;</th><th>&quot;d:m:s&quot;</th><th></th><th></th><th>mas</th><th></th><th>mag</th></tr></thead>\n",
       "<thead><tr><th>object</th><th>object</th><th>object</th><th>unicode13</th><th>unicode13</th><th>object</th><th>object</th><th>float64</th><th>float64</th><th>float32</th></tr></thead>\n",
       "<tr><td>NGC   225</td><td></td><td></td><td>00 43 39</td><td>+61 46.5</td><td>Open (galactic) Cluster</td><td></td><td>--</td><td>-0.0000930</td><td>7.0</td></tr>\n",
       "</table>"
      ],
      "text/plain": [
       "<Row index=218 masked=True>\n",
       " MAIN_ID  ID_NAME ID_HD      RA       DEC            OTYPE_V         SP_TYPE PLX_VALUE  Z_VALUE    FLUX_V\n",
       "                          \"h:m:s\"   \"d:m:s\"                                     mas                 mag  \n",
       "  object   object object unicode13 unicode13          object          object  float64   float64   float32\n",
       "--------- ------- ------ --------- --------- ----------------------- ------- --------- ---------- -------\n",
       "NGC   225                 00 43 39  +61 46.5 Open (galactic) Cluster                -- -0.0000930     7.0"
      ]
     },
     "execution_count": 73,
     "metadata": {},
     "output_type": "execute_result"
    }
   ],
   "source": [
    "i=0\n",
    "sec.sort(\"MAIN_ID\")\n",
    "print sec[i:i+20]\n",
    "sec[218]"
   ]
  },
  {
   "cell_type": "code",
   "execution_count": 44,
   "metadata": {},
   "outputs": [
    {
     "data": {
      "text/html": [
       "&lt;Table masked=True length=20&gt;\n",
       "<table id=\"table140465940716688\" class=\"table-striped table-bordered table-condensed\">\n",
       "<thead><tr><th>MAIN_ID</th><th>ID_NAME</th><th>ID_HD</th><th>RA</th><th>DEC</th><th>OTYPE_V</th><th>SP_TYPE</th><th>PLX_VALUE</th><th>Z_VALUE</th><th>FLUX_V</th></tr></thead>\n",
       "<thead><tr><th></th><th></th><th></th><th>&quot;h:m:s&quot;</th><th>&quot;d:m:s&quot;</th><th></th><th></th><th>mas</th><th></th><th>mag</th></tr></thead>\n",
       "<thead><tr><th>object</th><th>object</th><th>object</th><th>unicode13</th><th>unicode13</th><th>object</th><th>object</th><th>float64</th><th>float64</th><th>float32</th></tr></thead>\n",
       "<tr><td>NGC     1</td><td></td><td></td><td>00 07 15.825</td><td>+27 42 29.13</td><td>Galaxy in Pair of Galaxies</td><td></td><td>--</td><td>0.0152450</td><td>--</td></tr>\n",
       "<tr><td>NGC     2</td><td></td><td></td><td>00 07 17.104</td><td>+27 40 42.13</td><td>Galaxy in Pair of Galaxies</td><td></td><td>--</td><td>0.0250040</td><td>--</td></tr>\n",
       "<tr><td>NGC     3</td><td></td><td></td><td>00 07 16.804</td><td>+08 18 05.84</td><td>Galaxy</td><td></td><td>--</td><td>0.0130090</td><td>--</td></tr>\n",
       "<tr><td>NGC     4</td><td></td><td></td><td>00 07 24.4</td><td>+08 22 30</td><td>Galaxy</td><td></td><td>--</td><td>--</td><td>--</td></tr>\n",
       "<tr><td>NGC     5</td><td></td><td></td><td>00 07 48.898</td><td>+35 21 44.46</td><td>Galaxy</td><td></td><td>--</td><td>0.0167920</td><td>--</td></tr>\n",
       "<tr><td>NGC     7</td><td></td><td></td><td>00 08 20.3</td><td>-29 55 01</td><td>Galaxy</td><td></td><td>--</td><td>0.0050330</td><td>--</td></tr>\n",
       "<tr><td>NGC     8</td><td></td><td></td><td>00 08 45.3</td><td>+23 50 19</td><td>Double or multiple star</td><td></td><td>--</td><td>--</td><td>--</td></tr>\n",
       "<tr><td>NGC     9</td><td></td><td></td><td>00 08 54.713</td><td>+23 49 00.92</td><td>Emission-line galaxy</td><td></td><td>--</td><td>0.0150870</td><td>--</td></tr>\n",
       "<tr><td>NGC    10</td><td></td><td></td><td>00 08 34.535</td><td>-33 51 29.92</td><td>Emission-line galaxy</td><td></td><td>--</td><td>0.0227390</td><td>--</td></tr>\n",
       "<tr><td>NGC    11</td><td></td><td></td><td>00 08 42.494</td><td>+37 26 52.39</td><td>Galaxy</td><td></td><td>--</td><td>0.0146700</td><td>--</td></tr>\n",
       "<tr><td>NGC    12</td><td></td><td></td><td>00 08 44.752</td><td>+04 36 45.12</td><td>Galaxy</td><td></td><td>--</td><td>0.0130490</td><td>--</td></tr>\n",
       "<tr><td>NGC    13</td><td></td><td></td><td>00 08 47.721</td><td>+33 26 00.06</td><td>Galaxy in Group of Galaxies</td><td></td><td>--</td><td>0.0159740</td><td>--</td></tr>\n",
       "<tr><td>NGC    14</td><td></td><td></td><td>00 08 46.420</td><td>+15 48 55.90</td><td>Interacting Galaxies</td><td></td><td>--</td><td>0.0028850</td><td>--</td></tr>\n",
       "<tr><td>NGC    15</td><td></td><td></td><td>00 09 02.466</td><td>+21 37 27.99</td><td>Galaxy in Group of Galaxies</td><td></td><td>--</td><td>0.0210510</td><td>--</td></tr>\n",
       "<tr><td>NGC    16</td><td></td><td></td><td>00 09 04.300</td><td>+27 43 46.03</td><td>Galaxy</td><td></td><td>--</td><td>0.0102140</td><td>12.06</td></tr>\n",
       "<tr><td>NGC    34</td><td></td><td></td><td>00 11 06.612</td><td>-12 06 28.33</td><td>Seyfert 2 Galaxy</td><td></td><td>--</td><td>0.0200000</td><td>13.52</td></tr>\n",
       "<tr><td>NGC    19</td><td></td><td></td><td>00 10 40.874</td><td>+32 58 59.20</td><td>Galaxy in Group of Galaxies</td><td></td><td>--</td><td>0.0160180</td><td>--</td></tr>\n",
       "<tr><td>NGC    20</td><td></td><td></td><td>00 09 32.704</td><td>+33 18 31.09</td><td>Galaxy in Group of Galaxies</td><td></td><td>--</td><td>0.0166010</td><td>--</td></tr>\n",
       "<tr><td>NGC    22</td><td></td><td></td><td>00 09 48.174</td><td>+27 49 56.45</td><td>Galaxy in Group of Galaxies</td><td></td><td>--</td><td>0.0276760</td><td>--</td></tr>\n",
       "<tr><td>NGC    23</td><td></td><td></td><td>00 09 53.411</td><td>+25 55 25.46</td><td>Galaxy</td><td></td><td>--</td><td>0.0152350</td><td>--</td></tr>\n",
       "</table>"
      ],
      "text/plain": [
       "<Table masked=True length=20>\n",
       " MAIN_ID  ID_NAME ID_HD       RA      ... SP_TYPE PLX_VALUE  Z_VALUE   FLUX_V\n",
       "                           \"h:m:s\"    ...            mas                mag  \n",
       "  object   object object  unicode13   ...  object  float64   float64  float32\n",
       "--------- ------- ------ ------------ ... ------- --------- --------- -------\n",
       "NGC     1                00 07 15.825 ...                -- 0.0152450      --\n",
       "NGC     2                00 07 17.104 ...                -- 0.0250040      --\n",
       "NGC     3                00 07 16.804 ...                -- 0.0130090      --\n",
       "NGC     4                  00 07 24.4 ...                --        --      --\n",
       "NGC     5                00 07 48.898 ...                -- 0.0167920      --\n",
       "NGC     7                  00 08 20.3 ...                -- 0.0050330      --\n",
       "NGC     8                  00 08 45.3 ...                --        --      --\n",
       "NGC     9                00 08 54.713 ...                -- 0.0150870      --\n",
       "NGC    10                00 08 34.535 ...                -- 0.0227390      --\n",
       "NGC    11                00 08 42.494 ...                -- 0.0146700      --\n",
       "NGC    12                00 08 44.752 ...                -- 0.0130490      --\n",
       "NGC    13                00 08 47.721 ...                -- 0.0159740      --\n",
       "NGC    14                00 08 46.420 ...                -- 0.0028850      --\n",
       "NGC    15                00 09 02.466 ...                -- 0.0210510      --\n",
       "NGC    16                00 09 04.300 ...                -- 0.0102140   12.06\n",
       "NGC    34                00 11 06.612 ...                -- 0.0200000   13.52\n",
       "NGC    19                00 10 40.874 ...                -- 0.0160180      --\n",
       "NGC    20                00 09 32.704 ...                -- 0.0166010      --\n",
       "NGC    22                00 09 48.174 ...                -- 0.0276760      --\n",
       "NGC    23                00 09 53.411 ...                -- 0.0152350      --"
      ]
     },
     "execution_count": 44,
     "metadata": {},
     "output_type": "execute_result"
    }
   ],
   "source": [
    "i=0\n",
    "first[[\"NGC\" == string[:3] for string in first[\"MAIN_ID\"]]][i:i+20]\n",
    "\n"
   ]
  },
  {
   "cell_type": "code",
   "execution_count": null,
   "metadata": {
    "collapsed": true
   },
   "outputs": [],
   "source": []
  }
 ],
 "metadata": {
  "kernelspec": {
   "display_name": "Python 2",
   "language": "python",
   "name": "python2"
  },
  "language_info": {
   "codemirror_mode": {
    "name": "ipython",
    "version": 2
   },
   "file_extension": ".py",
   "mimetype": "text/x-python",
   "name": "python",
   "nbconvert_exporter": "python",
   "pygments_lexer": "ipython2",
   "version": "2.7.12"
  }
 },
 "nbformat": 4,
 "nbformat_minor": 2
}
