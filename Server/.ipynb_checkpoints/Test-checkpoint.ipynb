{
 "cells": [
  {
   "cell_type": "markdown",
   "metadata": {},
   "source": [
    "    Duncan Rocha\n",
    "    3/22/18\n",
    "    STELA Collective\n",
    "\n",
    "    Example code for how one might use the server to send commands to the arduino."
   ]
  },
  {
   "cell_type": "code",
   "execution_count": 8,
   "metadata": {
    "collapsed": true
   },
   "outputs": [],
   "source": [
    "import numpy as np\n",
    "import json\n",
    "import time\n",
    "import urllib2"
   ]
  },
  {
   "cell_type": "code",
   "execution_count": null,
   "metadata": {},
   "outputs": [],
   "source": [
    "\n",
    "class server:\n",
    "    def __init__(self):\n",
    "        # Specify flask ip adress here (this one works if flask is run on your own computer)\n",
    "        self.url = 'http://localhost:5123'\n",
    "        \n",
    "    def set_location(self,lon_lat,units):\n",
    "        data = {'location': lon_lat,'units':units}\n",
    "        req = urllib2.Request(self.url+'/set_location')\n",
    "        req.add_header('Content-Type', 'application/json')\n",
    "        response = urllib2.urlopen(req, json.dumps(data))\n",
    "        \n",
    "    def set_targ(self,az_alt):\n",
    "        # Set the target position in the arduino (notice dictionary protocol)\n",
    "        data = {'targ': az_alt}\n",
    "        req = urllib2.Request(self.url+'/set_targ')\n",
    "        req.add_header('Content-Type', 'application/json')\n",
    "        response = urllib2.urlopen(req, json.dumps(data))\n",
    "        \n",
    "    def get_pos(self):\n",
    "        # Get the current position of the arduino (again, protocols)\n",
    "        a = urllib2.urlopen(self.url+'/get_pos')\n",
    "        dic = json.loads(a.read())\n",
    "        az_alt = dic['pos']\n",
    "        #az_alt_targ = dic['targ']\n",
    "        return az_alt#,az_alt_targ\n",
    "    \n",
    "    def setup(self):\n",
    "        # Currently nonfuntional\n",
    "        a = urllib2.urlopen(self.url+'/setup')\n",
    "        return json.loads(a.read())\n",
    "\n",
    "    def move(self,az_alt):\n",
    "        # move a small incriment\n",
    "        data = {'increment': az_alt}\n",
    "        req = urllib2.Request(self.url+'/move')\n",
    "        req.add_header('Content-Type', 'application/json')\n",
    "        response = urllib2.urlopen(req, json.dumps(data))\n",
    "        \n",
    "    def set_calib(self,n=None):\n",
    "        if n==None:\n",
    "            urllib2.urlopen(self.url+'/set_calib')\n",
    "        else:\n",
    "            data = {\"calib_num\": n }\n",
    "            req = urllib2.Request(self.url+'/set_calib')\n",
    "            req.add_header('Content-Type', 'application/json')\n",
    "            response = urllib2.urlopen(req, json.dumps(data))\n",
    "    def calibrate(self):\n",
    "        urllib2.urlopen(self.url+'/calibrate')\n",
    "\n",
    "    \n",
    "serv = server()\n",
    "serv.set_location([-112,34],[\"deg\",\"deg\"])\n",
    "coors = serv.setup()\n",
    "#print coors\n",
    "\n",
    "\n",
    "\"\"\"for i in range(100):\n",
    "    serv.move([1,1])\n",
    "    print serv.get_pos()\n",
    "#serv.setup()\n",
    "#serv.move([10,10])\n",
    "#serv.move([10,10])\n",
    "#print serv.get_pos()\"\"\""
   ]
  },
  {
   "cell_type": "code",
   "execution_count": 28,
   "metadata": {},
   "outputs": [
    {
     "name": "stdout",
     "output_type": "stream",
     "text": [
      "[[121.84537926  45.50042418]\n",
      " [134.12173952  51.67209081]\n",
      " [273.8423195   38.50364279]]\n"
     ]
    }
   ],
   "source": [
    "import astropy.coordinates as cp\n",
    "import astropy.units as u\n",
    "from astropy.time import Time\n",
    "\n",
    "cel = cp.SkyCoord([u'79.1723 5.27816', u'68.9802 4.59868', u'344.413 22.9608'],unit=[u.deg,u.deg])\n",
    "\n",
    "lon=-110\n",
    "lat=34\n",
    "\n",
    "location = cp.EarthLocation(lon*u.deg,lat*u.deg)\n",
    "altaz = cp.AltAz(location=location,obstime=Time.now())\n",
    "\n",
    "obs = cel.transform_to(altaz)\n",
    "obsl = np.array([obs.az.deg,obs.alt.deg]).T\n",
    "\n",
    "print obsl"
   ]
  },
  {
   "cell_type": "code",
   "execution_count": 29,
   "metadata": {
    "collapsed": true
   },
   "outputs": [],
   "source": [
    "\n",
    "for i in [0,1,2]:\n",
    "    serv.set_targ(obsl[i].tolist())\n",
    "    time.sleep(1)\n",
    "    serv.set_calib()\n",
    "    \n",
    "serv.calibrate()"
   ]
  },
  {
   "cell_type": "code",
   "execution_count": 30,
   "metadata": {},
   "outputs": [
    {
     "data": {
      "text/plain": [
       "[273.82501, 38.58749]"
      ]
     },
     "execution_count": 30,
     "metadata": {},
     "output_type": "execute_result"
    }
   ],
   "source": [
    "serv.get_pos()"
   ]
  }
 ],
 "metadata": {
  "kernelspec": {
   "display_name": "Python 2",
   "language": "python",
   "name": "python2"
  }
 },
 "nbformat": 4,
 "nbformat_minor": 2
}
