{
 "cells": [
  {
   "cell_type": "code",
   "execution_count": 4,
   "metadata": {},
   "outputs": [],
   "source": [
    "import astropy.coordinates as cp\n",
    "import astropy.units as u\n",
    "import numpy as np\n",
    "from astroquery import simbad"
   ]
  },
  {
   "cell_type": "code",
   "execution_count": 113,
   "metadata": {},
   "outputs": [],
   "source": [
    "s = simbad.Simbad()\n",
    "s.remove_votable_fields('coordinates')\n",
    "s.add_votable_fields('id(NAME)', 'id(HD)', \"id(NGC)\", \"id(M)\", \"id(GJ)\",'ra','dec','otype(V)','sp','plx','z_value',\n",
    "                                        'flux(V)')\n",
    "\n",
    "s.TIMEOUT = 100000000\n",
    "#first = s.query_catalog(\"NGC\")"
   ]
  },
  {
   "cell_type": "code",
   "execution_count": 109,
   "metadata": {},
   "outputs": [],
   "source": [
    "s.WILDCARDS = True\n",
    "sec = s.query_object(\"NGC ????\", wildcard=True)"
   ]
  },
  {
   "cell_type": "code",
   "execution_count": 122,
   "metadata": {},
   "outputs": [
    {
     "data": {
      "text/html": [
       "&lt;Table masked=True length=5331&gt;\n",
       "<table id=\"table140465591010896\" class=\"table-striped table-bordered table-condensed\">\n",
       "<thead><tr><th>MAIN_ID</th><th>ID_NAME</th><th>ID_HD</th><th>ID_NGC</th><th>ID_M</th><th>ID_GJ</th><th>RA</th><th>DEC</th><th>OTYPE_V</th><th>SP_TYPE</th><th>PLX_VALUE</th><th>Z_VALUE</th><th>FLUX_V</th></tr></thead>\n",
       "<thead><tr><th></th><th></th><th></th><th></th><th></th><th></th><th>&quot;h:m:s&quot;</th><th>&quot;d:m:s&quot;</th><th></th><th></th><th>mas</th><th></th><th>mag</th></tr></thead>\n",
       "<thead><tr><th>object</th><th>object</th><th>object</th><th>object</th><th>object</th><th>object</th><th>unicode13</th><th>unicode13</th><th>object</th><th>object</th><th>float64</th><th>float64</th><th>float32</th></tr></thead>\n",
       "<tr><td>HD 225213</td><td></td><td>HD 225213</td><td></td><td></td><td>GJ 1</td><td>00 05 24.4282</td><td>-37 21 26.501</td><td>Flare Star</td><td>M2V</td><td>230.420</td><td>0.0000850</td><td>8.562</td></tr>\n",
       "<tr><td>BD+44  4548</td><td></td><td></td><td></td><td></td><td>GJ 2</td><td>00 05 10.8887</td><td>+45 47 11.647</td><td>High proper-motion Star</td><td>M2Ve</td><td>88.880</td><td>-0.0000010</td><td>9.97</td></tr>\n",
       "<tr><td>HD     55</td><td></td><td>HD 55</td><td></td><td></td><td>GJ 3</td><td>00 05 17.6886</td><td>-67 49 57.322</td><td>High proper-motion Star</td><td>K4.5V</td><td>61.140</td><td>0.0001370</td><td>8.485</td></tr>\n",
       "<tr><td>HD     38A</td><td></td><td>HD 38A</td><td></td><td></td><td>GJ 4 A</td><td>00 05 41.0129</td><td>+45 48 43.491</td><td>Spectroscopic binary</td><td>K6V</td><td>85.100</td><td>0.0000120</td><td>8.826</td></tr>\n",
       "<tr><td>HD     38B</td><td></td><td>HD 38B</td><td></td><td></td><td>GJ 4 B</td><td>00 05 40.342</td><td>+45 48 38.73</td><td>High proper-motion Star</td><td>M0.5V</td><td>--</td><td>0.0000060</td><td>8.995</td></tr>\n",
       "<tr><td>HD    123</td><td></td><td>HD 123</td><td></td><td></td><td>GJ 9001</td><td>00 06 15.8141</td><td>+58 26 12.220</td><td>Spectroscopic binary</td><td>G3V+G8V</td><td>46.560</td><td>-0.0000460</td><td>5.93</td></tr>\n",
       "<tr><td>HD    123A</td><td></td><td>HD 123A</td><td></td><td></td><td>GJ 4.1 A</td><td>00 06 15.839</td><td>+58 26 12.35</td><td>High proper-motion Star</td><td>G3V</td><td>--</td><td>-0.0000390</td><td>6.42</td></tr>\n",
       "<tr><td>HD    123B</td><td></td><td>HD 123B</td><td></td><td></td><td>GJ 4.1 B</td><td>00 06 15.699</td><td>+58 26 13.30</td><td>High proper-motion Star</td><td>G8V</td><td>--</td><td>-0.0000530</td><td>7.32</td></tr>\n",
       "<tr><td>HD    142A</td><td></td><td>HD 142A</td><td></td><td></td><td>GJ 9002 A</td><td>00 06 19.175</td><td>-49 04 30.67</td><td>High proper-motion Star</td><td>F7V</td><td>--</td><td>0.0000090</td><td>5.76</td></tr>\n",
       "<tr><td>...</td><td>...</td><td>...</td><td>...</td><td>...</td><td>...</td><td>...</td><td>...</td><td>...</td><td>...</td><td>...</td><td>...</td><td>...</td></tr>\n",
       "<tr><td>GJ  3629 A</td><td></td><td></td><td></td><td></td><td>GJ 3629 A</td><td>10 51 20.60</td><td>+36 07 25.6</td><td>High proper-motion Star</td><td></td><td>--</td><td>--</td><td>--</td></tr>\n",
       "<tr><td>GJ  3629 B</td><td></td><td></td><td></td><td></td><td>GJ 3629 B</td><td>10 51 20.61</td><td>+36 07 25.5</td><td>Star</td><td></td><td>--</td><td>--</td><td>--</td></tr>\n",
       "<tr><td>GJ  3942 b</td><td></td><td></td><td></td><td></td><td>GJ 3942 b</td><td>16 09 03.1408</td><td>+52 56 37.958</td><td>Extra-solar Planet Candidate</td><td></td><td>--</td><td>--</td><td>--</td></tr>\n",
       "<tr><td>GJ  3942 c</td><td></td><td></td><td></td><td></td><td>GJ 3942 c</td><td>16 09 03.1408</td><td>+52 56 37.958</td><td>Extra-solar Planet Candidate</td><td></td><td>--</td><td>--</td><td>--</td></tr>\n",
       "<tr><td>GJ  3998 b</td><td></td><td></td><td></td><td></td><td>GJ 3998 b</td><td>17 16 00.6378</td><td>+11 03 27.610</td><td>Extra-solar Planet Candidate</td><td></td><td>--</td><td>--</td><td>--</td></tr>\n",
       "<tr><td>GJ  3998 c</td><td></td><td></td><td></td><td></td><td>GJ 3998 c</td><td>17 16 00.6378</td><td>+11 03 27.610</td><td>Extra-solar Planet Candidate</td><td></td><td>--</td><td>--</td><td>--</td></tr>\n",
       "<tr><td>GJ  4305 B</td><td></td><td></td><td></td><td></td><td>GJ 4305 B</td><td></td><td></td><td>Star</td><td></td><td>--</td><td>--</td><td>--</td></tr>\n",
       "<tr><td>HD 105590A</td><td></td><td>HD 105590A</td><td></td><td></td><td>GJ 9390 A</td><td>12 09 28.536</td><td>-11 51 25.41</td><td>High proper-motion Star</td><td>G4</td><td>--</td><td>-0.0000010</td><td>6.84</td></tr>\n",
       "<tr><td>G 239-25B</td><td></td><td></td><td></td><td></td><td>GJ 9492 B</td><td>14 42 22.05</td><td>+66 03 20.5</td><td>Brown Dwarf (M&lt;0.08solMass)</td><td>L0</td><td>92.620</td><td>--</td><td>16.0</td></tr>\n",
       "<tr><td>HD 166285A</td><td></td><td>HD 166285A</td><td></td><td></td><td>GJ 9618 A</td><td>18 09 54.014</td><td>+03 07 11.40</td><td>Spectroscopic binary</td><td></td><td>--</td><td>--</td><td>--</td></tr>\n",
       "</table>"
      ],
      "text/plain": [
       "<Table masked=True length=5331>\n",
       "  MAIN_ID   ID_NAME   ID_HD    ID_NGC ... SP_TYPE PLX_VALUE  Z_VALUE    FLUX_V\n",
       "                                      ...            mas                 mag  \n",
       "   object    object   object   object ...  object  float64   float64   float32\n",
       "----------- ------- ---------- ------ ... ------- --------- ---------- -------\n",
       "  HD 225213          HD 225213        ...     M2V   230.420  0.0000850   8.562\n",
       "BD+44  4548                           ...    M2Ve    88.880 -0.0000010    9.97\n",
       "  HD     55              HD 55        ...   K4.5V    61.140  0.0001370   8.485\n",
       " HD     38A             HD 38A        ...     K6V    85.100  0.0000120   8.826\n",
       " HD     38B             HD 38B        ...   M0.5V        --  0.0000060   8.995\n",
       "  HD    123             HD 123        ... G3V+G8V    46.560 -0.0000460    5.93\n",
       " HD    123A            HD 123A        ...     G3V        -- -0.0000390    6.42\n",
       " HD    123B            HD 123B        ...     G8V        -- -0.0000530    7.32\n",
       " HD    142A            HD 142A        ...     F7V        --  0.0000090    5.76\n",
       "        ...     ...        ...    ... ...     ...       ...        ...     ...\n",
       " GJ  3629 A                           ...                --         --      --\n",
       " GJ  3629 B                           ...                --         --      --\n",
       " GJ  3942 b                           ...                --         --      --\n",
       " GJ  3942 c                           ...                --         --      --\n",
       " GJ  3998 b                           ...                --         --      --\n",
       " GJ  3998 c                           ...                --         --      --\n",
       " GJ  4305 B                           ...                --         --      --\n",
       " HD 105590A         HD 105590A        ...      G4        -- -0.0000010    6.84\n",
       "  G 239-25B                           ...      L0    92.620         --    16.0\n",
       " HD 166285A         HD 166285A        ...                --         --      --"
      ]
     },
     "execution_count": 122,
     "metadata": {},
     "output_type": "execute_result"
    }
   ],
   "source": [
    "s.query_catalog(\"GJ\")"
   ]
  },
  {
   "cell_type": "code",
   "execution_count": 121,
   "metadata": {},
   "outputs": [
    {
     "data": {
      "text/html": [
       "&lt;Table masked=True length=4496&gt;\n",
       "<table id=\"table140465587614224\" class=\"table-striped table-bordered table-condensed\">\n",
       "<thead><tr><th>MAIN_ID</th><th>ID_NAME</th><th>ID_HD</th><th>ID_NGC</th><th>ID_M</th><th>ID_GJ</th><th>RA</th><th>DEC</th><th>OTYPE_V</th><th>SP_TYPE</th><th>PLX_VALUE</th><th>Z_VALUE</th><th>FLUX_V</th></tr></thead>\n",
       "<thead><tr><th></th><th></th><th></th><th></th><th></th><th></th><th>&quot;h:m:s&quot;</th><th>&quot;d:m:s&quot;</th><th></th><th></th><th>mas</th><th></th><th>mag</th></tr></thead>\n",
       "<thead><tr><th>object</th><th>object</th><th>object</th><th>object</th><th>object</th><th>object</th><th>unicode13</th><th>unicode13</th><th>object</th><th>object</th><th>float64</th><th>float64</th><th>float32</th></tr></thead>\n",
       "<tr><td>HD 225213</td><td></td><td>HD 225213</td><td></td><td></td><td>GJ 1</td><td>00 05 24.4282</td><td>-37 21 26.501</td><td>Flare Star</td><td>M2V</td><td>230.420</td><td>0.0000850</td><td>8.562</td></tr>\n",
       "<tr><td>BD+44  4548</td><td></td><td></td><td></td><td></td><td>GJ 2</td><td>00 05 10.8887</td><td>+45 47 11.647</td><td>High proper-motion Star</td><td>M2Ve</td><td>88.880</td><td>-0.0000010</td><td>9.97</td></tr>\n",
       "<tr><td>HD     55</td><td></td><td>HD 55</td><td></td><td></td><td>GJ 3</td><td>00 05 17.6886</td><td>-67 49 57.322</td><td>High proper-motion Star</td><td>K4.5V</td><td>61.140</td><td>0.0001370</td><td>8.485</td></tr>\n",
       "<tr><td>HD     38A</td><td></td><td>HD 38A</td><td></td><td></td><td>GJ 4 A</td><td>00 05 41.0129</td><td>+45 48 43.491</td><td>Spectroscopic binary</td><td>K6V</td><td>85.100</td><td>0.0000120</td><td>8.826</td></tr>\n",
       "<tr><td>HD     38B</td><td></td><td>HD 38B</td><td></td><td></td><td>GJ 4 B</td><td>00 05 40.342</td><td>+45 48 38.73</td><td>High proper-motion Star</td><td>M0.5V</td><td>--</td><td>0.0000060</td><td>8.995</td></tr>\n",
       "<tr><td>HD    123B</td><td></td><td>HD 123B</td><td></td><td></td><td>GJ 4.1 B</td><td>00 06 15.699</td><td>+58 26 13.30</td><td>High proper-motion Star</td><td>G8V</td><td>--</td><td>-0.0000530</td><td>7.32</td></tr>\n",
       "<tr><td>HD    142B</td><td></td><td>HD 142B</td><td></td><td></td><td>GJ 9002 B</td><td>00 06 19.195</td><td>-49 04 34.81</td><td>High proper-motion Star</td><td>K5</td><td>--</td><td>--</td><td>11.5</td></tr>\n",
       "<tr><td>HD    166</td><td></td><td>HD 166</td><td></td><td></td><td>GJ 5</td><td>00 06 36.7842</td><td>+29 01 17.412</td><td>Variable of BY Dra type</td><td>K0V</td><td>72.630</td><td>-0.0000220</td><td>6.13</td></tr>\n",
       "<tr><td>HD    400</td><td></td><td>HD 400</td><td></td><td></td><td>GJ 6</td><td>00 08 40.9383</td><td>+36 37 37.647</td><td>High proper-motion Star</td><td>F8IV</td><td>30.820</td><td>-0.0000500</td><td>6.202</td></tr>\n",
       "<tr><td>...</td><td>...</td><td>...</td><td>...</td><td>...</td><td>...</td><td>...</td><td>...</td><td>...</td><td>...</td><td>...</td><td>...</td><td>...</td></tr>\n",
       "<tr><td>GJ  3629 A</td><td></td><td></td><td></td><td></td><td>GJ 3629 A</td><td>10 51 20.60</td><td>+36 07 25.6</td><td>High proper-motion Star</td><td></td><td>--</td><td>--</td><td>--</td></tr>\n",
       "<tr><td>GJ  3629 B</td><td></td><td></td><td></td><td></td><td>GJ 3629 B</td><td>10 51 20.61</td><td>+36 07 25.5</td><td>Star</td><td></td><td>--</td><td>--</td><td>--</td></tr>\n",
       "<tr><td>GJ  3942 b</td><td></td><td></td><td></td><td></td><td>GJ 3942 b</td><td>16 09 03.1408</td><td>+52 56 37.958</td><td>Extra-solar Planet Candidate</td><td></td><td>--</td><td>--</td><td>--</td></tr>\n",
       "<tr><td>GJ  3942 c</td><td></td><td></td><td></td><td></td><td>GJ 3942 c</td><td>16 09 03.1408</td><td>+52 56 37.958</td><td>Extra-solar Planet Candidate</td><td></td><td>--</td><td>--</td><td>--</td></tr>\n",
       "<tr><td>GJ  3998 b</td><td></td><td></td><td></td><td></td><td>GJ 3998 b</td><td>17 16 00.6378</td><td>+11 03 27.610</td><td>Extra-solar Planet Candidate</td><td></td><td>--</td><td>--</td><td>--</td></tr>\n",
       "<tr><td>GJ  3998 c</td><td></td><td></td><td></td><td></td><td>GJ 3998 c</td><td>17 16 00.6378</td><td>+11 03 27.610</td><td>Extra-solar Planet Candidate</td><td></td><td>--</td><td>--</td><td>--</td></tr>\n",
       "<tr><td>GJ  4305 B</td><td></td><td></td><td></td><td></td><td>GJ 4305 B</td><td></td><td></td><td>Star</td><td></td><td>--</td><td>--</td><td>--</td></tr>\n",
       "<tr><td>HD 105590A</td><td></td><td>HD 105590A</td><td></td><td></td><td>GJ 9390 A</td><td>12 09 28.536</td><td>-11 51 25.41</td><td>High proper-motion Star</td><td>G4</td><td>--</td><td>-0.0000010</td><td>6.84</td></tr>\n",
       "<tr><td>G 239-25B</td><td></td><td></td><td></td><td></td><td>GJ 9492 B</td><td>14 42 22.05</td><td>+66 03 20.5</td><td>Brown Dwarf (M&lt;0.08solMass)</td><td>L0</td><td>92.620</td><td>--</td><td>16.0</td></tr>\n",
       "<tr><td>HD 166285A</td><td></td><td>HD 166285A</td><td></td><td></td><td>GJ 9618 A</td><td>18 09 54.014</td><td>+03 07 11.40</td><td>Spectroscopic binary</td><td></td><td>--</td><td>--</td><td>--</td></tr>\n",
       "</table>"
      ],
      "text/plain": [
       "<Table masked=True length=4496>\n",
       "  MAIN_ID   ID_NAME   ID_HD    ID_NGC ... SP_TYPE PLX_VALUE  Z_VALUE    FLUX_V\n",
       "                                      ...            mas                 mag  \n",
       "   object    object   object   object ...  object  float64   float64   float32\n",
       "----------- ------- ---------- ------ ... ------- --------- ---------- -------\n",
       "  HD 225213          HD 225213        ...     M2V   230.420  0.0000850   8.562\n",
       "BD+44  4548                           ...    M2Ve    88.880 -0.0000010    9.97\n",
       "  HD     55              HD 55        ...   K4.5V    61.140  0.0001370   8.485\n",
       " HD     38A             HD 38A        ...     K6V    85.100  0.0000120   8.826\n",
       " HD     38B             HD 38B        ...   M0.5V        --  0.0000060   8.995\n",
       " HD    123B            HD 123B        ...     G8V        -- -0.0000530    7.32\n",
       " HD    142B            HD 142B        ...      K5        --         --    11.5\n",
       "  HD    166             HD 166        ...     K0V    72.630 -0.0000220    6.13\n",
       "  HD    400             HD 400        ...    F8IV    30.820 -0.0000500   6.202\n",
       "        ...     ...        ...    ... ...     ...       ...        ...     ...\n",
       " GJ  3629 A                           ...                --         --      --\n",
       " GJ  3629 B                           ...                --         --      --\n",
       " GJ  3942 b                           ...                --         --      --\n",
       " GJ  3942 c                           ...                --         --      --\n",
       " GJ  3998 b                           ...                --         --      --\n",
       " GJ  3998 c                           ...                --         --      --\n",
       " GJ  4305 B                           ...                --         --      --\n",
       " HD 105590A         HD 105590A        ...      G4        -- -0.0000010    6.84\n",
       "  G 239-25B                           ...      L0    92.620         --    16.0\n",
       " HD 166285A         HD 166285A        ...                --         --      --"
      ]
     },
     "execution_count": 121,
     "metadata": {},
     "output_type": "execute_result"
    }
   ],
   "source": [
    "\n",
    "g = s.query_object(\"GJ *\", wildcard=True)\n",
    "g"
   ]
  },
  {
   "cell_type": "code",
   "execution_count": null,
   "metadata": {
    "collapsed": true
   },
   "outputs": [],
   "source": [
    "s.query_"
   ]
  },
  {
   "cell_type": "code",
   "execution_count": 110,
   "metadata": {},
   "outputs": [
    {
     "name": "stdout",
     "output_type": "stream",
     "text": [
      "   MAIN_ID    ID_NAME ID_HD  ID_NGC  ID_M ... SP_TYPE PLX_VALUE  Z_VALUE  FLUX_V\n",
      "                                          ...            mas               mag  \n",
      "------------- ------- ----- -------- ---- ... ------- --------- --------- ------\n",
      "   NGC   957A               NGC 957A      ...                --        --     --\n",
      "    NGC   978                NGC 978      ...                -- 0.0157310     --\n",
      "MCG+05-07-017               NGC 978B      ...                -- 0.0150970     --\n",
      "    ESO 299-6               NGC 986A      ...                -- 0.0047010  13.97\n"
     ]
    }
   ],
   "source": [
    "print sec"
   ]
  },
  {
   "cell_type": "code",
   "execution_count": 106,
   "metadata": {},
   "outputs": [
    {
     "data": {
      "text/html": [
       "&lt;Table masked=True length=20&gt;\n",
       "<table id=\"table140465589294864\" class=\"table-striped table-bordered table-condensed\">\n",
       "<thead><tr><th>MAIN_ID</th><th>ID_NAME</th><th>ID_HD</th><th>ID_NGC</th><th>ID_M</th><th>RA</th><th>DEC</th><th>OTYPE_V</th><th>SP_TYPE</th><th>PLX_VALUE</th><th>Z_VALUE</th><th>FLUX_V</th></tr></thead>\n",
       "<thead><tr><th></th><th></th><th></th><th></th><th></th><th>&quot;h:m:s&quot;</th><th>&quot;d:m:s&quot;</th><th></th><th></th><th>mas</th><th></th><th>mag</th></tr></thead>\n",
       "<thead><tr><th>object</th><th>object</th><th>object</th><th>object</th><th>object</th><th>unicode13</th><th>unicode13</th><th>object</th><th>object</th><th>float64</th><th>float64</th><th>float32</th></tr></thead>\n",
       "<tr><td>NGC   210</td><td></td><td></td><td>NGC 210</td><td></td><td>00 40 35.021</td><td>-13 52 22.08</td><td>Galaxy in Pair of Galaxies</td><td></td><td>--</td><td>0.0054460</td><td>--</td></tr>\n",
       "<tr><td>NGC   212</td><td></td><td></td><td>NGC 212</td><td></td><td>00 40 13.327</td><td>-56 09 10.85</td><td>Brightest galaxy in a Cluster (BCG)</td><td></td><td>--</td><td>0.0278290</td><td>--</td></tr>\n",
       "<tr><td>NGC   213</td><td></td><td></td><td>NGC 213</td><td></td><td>00 41 10.003</td><td>+16 28 10.12</td><td>Galaxy</td><td></td><td>--</td><td>0.0182590</td><td>--</td></tr>\n",
       "<tr><td>NGC   214</td><td></td><td></td><td>NGC 214</td><td></td><td>00 41 28.020</td><td>+25 29 57.62</td><td>Active Galaxy Nucleus</td><td></td><td>--</td><td>0.0152520</td><td>--</td></tr>\n",
       "<tr><td>NGC   215</td><td></td><td></td><td>NGC 215</td><td></td><td>00 40 48.851</td><td>-56 12 50.43</td><td>Brightest galaxy in a Cluster (BCG)</td><td></td><td>--</td><td>0.0276960</td><td>--</td></tr>\n",
       "<tr><td>NGC   216</td><td></td><td></td><td>NGC 216</td><td></td><td>00 41 26.885</td><td>-21 02 52.90</td><td>Emission-line galaxy</td><td></td><td>--</td><td>0.0052830</td><td>13.12</td></tr>\n",
       "<tr><td>NGC   217</td><td></td><td></td><td>NGC 217</td><td></td><td>00 41 33.903</td><td>-10 01 16.96</td><td>Galaxy in Cluster of Galaxies</td><td></td><td>--</td><td>0.0132360</td><td>12.1</td></tr>\n",
       "<tr><td>NGC   218</td><td></td><td></td><td>NGC 218</td><td></td><td>00 41 44.623</td><td>+36 21 34.49</td><td>Low Surface Brightness Galaxy</td><td></td><td>--</td><td>0.0162810</td><td>--</td></tr>\n",
       "<tr><td>NGC   219</td><td></td><td></td><td>NGC 219</td><td></td><td>00 42 11.298</td><td>+00 54 16.14</td><td>Galaxy in Cluster of Galaxies</td><td></td><td>--</td><td>0.0182100</td><td>--</td></tr>\n",
       "<tr><td>NGC   220</td><td></td><td></td><td>NGC 220</td><td></td><td>00 40 55.96</td><td>-73 24 10.1</td><td>Open (galactic) Cluster</td><td></td><td>--</td><td>--</td><td>14.39</td></tr>\n",
       "<tr><td>M  32</td><td></td><td></td><td>NGC 221</td><td>M 32</td><td>00 42 41.825</td><td>+40 51 54.61</td><td>Interacting Galaxies</td><td></td><td>--</td><td>-0.0006640</td><td>8.08</td></tr>\n",
       "<tr><td>NGC   222</td><td></td><td></td><td>NGC 222</td><td></td><td>00 40 42.11</td><td>-73 23 00.8</td><td>Open (galactic) Cluster</td><td></td><td>--</td><td>--</td><td>12.64</td></tr>\n",
       "<tr><td>NGC   223</td><td></td><td></td><td>NGC 223</td><td></td><td>00 42 15.858</td><td>+00 50 43.29</td><td>Galaxy in Cluster of Galaxies</td><td></td><td>--</td><td>0.0179200</td><td>--</td></tr>\n",
       "<tr><td>M  31</td><td>NAME Andromeda Nebula</td><td></td><td>NGC 224</td><td>M 31</td><td>00 42 44.330</td><td>+41 16 07.50</td><td>Galaxy</td><td></td><td>--</td><td>-0.0010000</td><td>3.44</td></tr>\n",
       "<tr><td>NGC   225</td><td></td><td></td><td>NGC 225</td><td></td><td>00 43 39</td><td>+61 46.5</td><td>Open (galactic) Cluster</td><td></td><td>--</td><td>-0.0000930</td><td>7.0</td></tr>\n",
       "<tr><td>NGC   226</td><td></td><td></td><td>NGC 226</td><td></td><td>00 42 54.035</td><td>+32 34 51.60</td><td>Galaxy in Group of Galaxies</td><td></td><td>--</td><td>0.0161300</td><td>--</td></tr>\n",
       "<tr><td>NGC   227</td><td></td><td></td><td>NGC 227</td><td></td><td>00 42 36.840</td><td>-01 31 43.62</td><td>Galaxy in Group of Galaxies</td><td></td><td>--</td><td>0.0178320</td><td>--</td></tr>\n",
       "<tr><td>NGC   228</td><td></td><td></td><td>NGC 228</td><td></td><td>00 42 54.525</td><td>+23 30 10.81</td><td>Galaxy in Group of Galaxies</td><td></td><td>--</td><td>0.0244940</td><td>--</td></tr>\n",
       "<tr><td>NGC   229</td><td></td><td></td><td>NGC 229</td><td></td><td>00 43 04.630</td><td>+23 30 32.85</td><td>Galaxy in Group of Galaxies</td><td></td><td>--</td><td>0.0244740</td><td>--</td></tr>\n",
       "<tr><td>NGC   230</td><td></td><td></td><td>NGC 230</td><td></td><td>00 42 27.191</td><td>-23 37 43.70</td><td>Galaxy in Group of Galaxies</td><td></td><td>--</td><td>0.0228060</td><td>--</td></tr>\n",
       "</table>"
      ],
      "text/plain": [
       "<Table masked=True length=20>\n",
       " MAIN_ID         ID_NAME        ID_HD   ID_NGC ... PLX_VALUE  Z_VALUE    FLUX_V\n",
       "                                               ...    mas                 mag  \n",
       "  object          object        object  object ...  float64   float64   float32\n",
       "--------- --------------------- ------ ------- ... --------- ---------- -------\n",
       "NGC   210                              NGC 210 ...        --  0.0054460      --\n",
       "NGC   212                              NGC 212 ...        --  0.0278290      --\n",
       "NGC   213                              NGC 213 ...        --  0.0182590      --\n",
       "NGC   214                              NGC 214 ...        --  0.0152520      --\n",
       "NGC   215                              NGC 215 ...        --  0.0276960      --\n",
       "NGC   216                              NGC 216 ...        --  0.0052830   13.12\n",
       "NGC   217                              NGC 217 ...        --  0.0132360    12.1\n",
       "NGC   218                              NGC 218 ...        --  0.0162810      --\n",
       "NGC   219                              NGC 219 ...        --  0.0182100      --\n",
       "NGC   220                              NGC 220 ...        --         --   14.39\n",
       "    M  32                              NGC 221 ...        -- -0.0006640    8.08\n",
       "NGC   222                              NGC 222 ...        --         --   12.64\n",
       "NGC   223                              NGC 223 ...        --  0.0179200      --\n",
       "    M  31 NAME Andromeda Nebula        NGC 224 ...        -- -0.0010000    3.44\n",
       "NGC   225                              NGC 225 ...        -- -0.0000930     7.0\n",
       "NGC   226                              NGC 226 ...        --  0.0161300      --\n",
       "NGC   227                              NGC 227 ...        --  0.0178320      --\n",
       "NGC   228                              NGC 228 ...        --  0.0244940      --\n",
       "NGC   229                              NGC 229 ...        --  0.0244740      --\n",
       "NGC   230                              NGC 230 ...        --  0.0228060      --"
      ]
     },
     "execution_count": 106,
     "metadata": {},
     "output_type": "execute_result"
    }
   ],
   "source": [
    "i=10\n",
    "\n",
    "sec[20*i:20*i+20]\n"
   ]
  },
  {
   "cell_type": "code",
   "execution_count": 83,
   "metadata": {},
   "outputs": [
    {
     "data": {
      "text/html": [
       "&lt;Table masked=True length=20000&gt;\n",
       "<table id=\"table140465596794640\" class=\"table-striped table-bordered table-condensed\">\n",
       "<thead><tr><th>MAIN_ID</th><th>ID_NAME</th><th>ID_HD</th><th>ID_NGC</th><th>ID_M</th><th>RA</th><th>DEC</th><th>OTYPE_V</th><th>SP_TYPE</th><th>PLX_VALUE</th><th>Z_VALUE</th><th>FLUX_V</th></tr></thead>\n",
       "<thead><tr><th></th><th></th><th></th><th></th><th></th><th>&quot;h:m:s&quot;</th><th>&quot;d:m:s&quot;</th><th></th><th></th><th>mas</th><th></th><th>mag</th></tr></thead>\n",
       "<thead><tr><th>object</th><th>object</th><th>object</th><th>object</th><th>object</th><th>unicode13</th><th>unicode13</th><th>object</th><th>object</th><th>float64</th><th>float64</th><th>float32</th></tr></thead>\n",
       "<tr><td>NGC     1</td><td></td><td></td><td>NGC 1</td><td></td><td>00 07 15.825</td><td>+27 42 29.13</td><td>Galaxy in Pair of Galaxies</td><td></td><td>--</td><td>0.0152450</td><td>--</td></tr>\n",
       "<tr><td>NGC     2</td><td></td><td></td><td>NGC 2</td><td></td><td>00 07 17.104</td><td>+27 40 42.13</td><td>Galaxy in Pair of Galaxies</td><td></td><td>--</td><td>0.0250040</td><td>--</td></tr>\n",
       "<tr><td>NGC     3</td><td></td><td></td><td>NGC 3</td><td></td><td>00 07 16.804</td><td>+08 18 05.84</td><td>Galaxy</td><td></td><td>--</td><td>0.0130090</td><td>--</td></tr>\n",
       "<tr><td>NGC     4</td><td></td><td></td><td>NGC 4</td><td></td><td>00 07 24.4</td><td>+08 22 30</td><td>Galaxy</td><td></td><td>--</td><td>--</td><td>--</td></tr>\n",
       "<tr><td>NGC     5</td><td></td><td></td><td>NGC 5</td><td></td><td>00 07 48.898</td><td>+35 21 44.46</td><td>Galaxy</td><td></td><td>--</td><td>0.0167920</td><td>--</td></tr>\n",
       "<tr><td>NGC     7</td><td></td><td></td><td>NGC 7</td><td></td><td>00 08 20.3</td><td>-29 55 01</td><td>Galaxy</td><td></td><td>--</td><td>0.0050330</td><td>--</td></tr>\n",
       "<tr><td>NGC     8</td><td></td><td></td><td>NGC 8</td><td></td><td>00 08 45.3</td><td>+23 50 19</td><td>Double or multiple star</td><td></td><td>--</td><td>--</td><td>--</td></tr>\n",
       "<tr><td>NGC     9</td><td></td><td></td><td>NGC 9</td><td></td><td>00 08 54.713</td><td>+23 49 00.92</td><td>Emission-line galaxy</td><td></td><td>--</td><td>0.0150870</td><td>--</td></tr>\n",
       "<tr><td>NGC    10</td><td></td><td></td><td>NGC 10</td><td></td><td>00 08 34.535</td><td>-33 51 29.92</td><td>Emission-line galaxy</td><td></td><td>--</td><td>0.0227390</td><td>--</td></tr>\n",
       "<tr><td>...</td><td>...</td><td>...</td><td>...</td><td>...</td><td>...</td><td>...</td><td>...</td><td>...</td><td>...</td><td>...</td><td>...</td></tr>\n",
       "<tr><td>HD 116980</td><td></td><td>HD 116980</td><td>NGC 5139 5</td><td></td><td>13 28 04.5338</td><td>-47 42 18.561</td><td>High proper-motion Star</td><td>F8V</td><td>10.800</td><td>--</td><td>8.77</td></tr>\n",
       "<tr><td>HD 116487</td><td></td><td>HD 116487</td><td>NGC 5139 6</td><td></td><td>13 24 44.1587</td><td>-47 35 58.703</td><td>Star in Cluster</td><td>K2III</td><td>3.270</td><td>--</td><td>9.16</td></tr>\n",
       "<tr><td>V* V1030 Cen</td><td></td><td>HD 116979</td><td>NGC 5139 7</td><td></td><td>13 28 01.7394</td><td>-47 23 19.454</td><td>Variable Star of delta Sct type</td><td>G8/K0III+A5/8</td><td>2.220</td><td>0.0008780</td><td>9.399</td></tr>\n",
       "<tr><td>HD 116993</td><td></td><td>HD 116993</td><td>NGC 5139 8</td><td></td><td>13 28 09.0656</td><td>-47 33 26.928</td><td>Star in Cluster</td><td>K1(III)</td><td>--</td><td>0.0008290</td><td>9.51</td></tr>\n",
       "<tr><td>HD 116824</td><td></td><td>HD 116824</td><td>NGC 5139 9</td><td></td><td>13 27 01.5690</td><td>-47 50 31.240</td><td>Star</td><td>G8III</td><td>1.860</td><td>-0.0000200</td><td>9.53</td></tr>\n",
       "<tr><td>TYC 8252-1761-1</td><td></td><td></td><td>NGC 5139 10</td><td></td><td>13 26 16.507</td><td>-47 47 04.36</td><td>Star</td><td></td><td>--</td><td>-0.0000720</td><td>9.78</td></tr>\n",
       "<tr><td>HD 116625</td><td></td><td>HD 116625</td><td>NGC 5139 11</td><td></td><td>13 25 38.57</td><td>-47 34 10.9</td><td>Star in Cluster</td><td>G5/8</td><td>--</td><td>--</td><td>10.07</td></tr>\n",
       "<tr><td>HD 116615</td><td></td><td>HD 116615</td><td>NGC 5139 12</td><td></td><td>13 25 34.5549</td><td>-47 37 54.405</td><td>Star in Cluster</td><td>G8/K1(III)</td><td>--</td><td>-0.0000980</td><td>10.1</td></tr>\n",
       "<tr><td>Cl* NGC 5139   LEID   74035</td><td></td><td></td><td>NGC 5139 13</td><td></td><td>13 27 33.8126</td><td>-47 42 50.137</td><td>Star in Cluster</td><td></td><td>0.510</td><td>0.0007710</td><td>10.26</td></tr>\n",
       "<tr><td>CD-46  8661</td><td></td><td></td><td>NGC 5139 14</td><td></td><td>13 27 52.031</td><td>-47 26 13.39</td><td>Star in Cluster</td><td></td><td>--</td><td>0.0008050</td><td>10.36</td></tr>\n",
       "</table>"
      ],
      "text/plain": [
       "<Table masked=True length=20000>\n",
       "          MAIN_ID           ID_NAME   ID_HD   ... PLX_VALUE  Z_VALUE    FLUX_V\n",
       "                                              ...    mas                 mag  \n",
       "           object            object   object  ...  float64   float64   float32\n",
       "--------------------------- ------- --------- ... --------- ---------- -------\n",
       "                  NGC     1                   ...        --  0.0152450      --\n",
       "                  NGC     2                   ...        --  0.0250040      --\n",
       "                  NGC     3                   ...        --  0.0130090      --\n",
       "                  NGC     4                   ...        --         --      --\n",
       "                  NGC     5                   ...        --  0.0167920      --\n",
       "                  NGC     7                   ...        --  0.0050330      --\n",
       "                  NGC     8                   ...        --         --      --\n",
       "                  NGC     9                   ...        --  0.0150870      --\n",
       "                  NGC    10                   ...        --  0.0227390      --\n",
       "                        ...     ...       ... ...       ...        ...     ...\n",
       "                  HD 116980         HD 116980 ...    10.800         --    8.77\n",
       "                  HD 116487         HD 116487 ...     3.270         --    9.16\n",
       "               V* V1030 Cen         HD 116979 ...     2.220  0.0008780   9.399\n",
       "                  HD 116993         HD 116993 ...        --  0.0008290    9.51\n",
       "                  HD 116824         HD 116824 ...     1.860 -0.0000200    9.53\n",
       "            TYC 8252-1761-1                   ...        -- -0.0000720    9.78\n",
       "                  HD 116625         HD 116625 ...        --         --   10.07\n",
       "                  HD 116615         HD 116615 ...        -- -0.0000980    10.1\n",
       "Cl* NGC 5139   LEID   74035                   ...     0.510  0.0007710   10.26\n",
       "                CD-46  8661                   ...        --  0.0008050   10.36"
      ]
     },
     "execution_count": 83,
     "metadata": {},
     "output_type": "execute_result"
    }
   ],
   "source": [
    "first"
   ]
  },
  {
   "cell_type": "code",
   "execution_count": 125,
   "metadata": {},
   "outputs": [],
   "source": []
  }
 ],
 "metadata": {
  "kernelspec": {
   "display_name": "Python 2",
   "language": "python",
   "name": "python2"
  },
  "language_info": {
   "codemirror_mode": {
    "name": "ipython",
    "version": 2
   },
   "file_extension": ".py",
   "mimetype": "text/x-python",
   "name": "python",
   "nbconvert_exporter": "python",
   "pygments_lexer": "ipython2",
   "version": "2.7.12"
  }
 },
 "nbformat": 4,
 "nbformat_minor": 2
}
