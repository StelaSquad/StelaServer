{
 "cells": [
  {
   "cell_type": "markdown",
   "metadata": {},
   "source": [
    "    Duncan Rocha\n",
    "    3/22/18\n",
    "    STELA Collective\n",
    "\n",
    "    Example code for how one might use the server to send commands to the arduino."
   ]
  },
  {
   "cell_type": "code",
   "execution_count": 15,
   "metadata": {
    "collapsed": true
   },
   "outputs": [],
   "source": [
    "import numpy as np\n",
    "import json\n",
    "import time\n",
    "import urllib2"
   ]
  },
  {
   "cell_type": "code",
   "execution_count": 87,
   "metadata": {},
   "outputs": [
    {
     "name": "stdout",
     "output_type": "stream",
     "text": [
      "([0.0, 0.0], [10.0, 10.0])\n"
     ]
    }
   ],
   "source": [
    "\n",
    "class server:\n",
    "    def __init__(self):\n",
    "        # Specify flask ip adress here (this one works if flask is run on your own computer)\n",
    "        self.url = 'http://127.0.0.1:5123'\n",
    "        \n",
    "    def set_targ(self,az_alt):\n",
    "        # Set the target position in the arduino (notice dictionary protocol)\n",
    "        data = {'targ': az_alt}\n",
    "        req = urllib2.Request(self.url+'/set_targ')\n",
    "        req.add_header('Content-Type', 'application/json')\n",
    "        response = urllib2.urlopen(req, json.dumps(data))\n",
    "        \n",
    "    def get_pos(self):\n",
    "        # Get the current position of the arduino (again, protocols)\n",
    "        a = urllib2.urlopen(self.url+'/get_pos')\n",
    "        dic = json.loads(a.read())\n",
    "        az_alt = dic['pos']\n",
    "        az_alt_targ = dic['targ']\n",
    "        return az_alt,az_alt_targ\n",
    "    \n",
    "    def setup(self):\n",
    "        # Currently nonfuntional\n",
    "        a = urllib2.urlopen(self.url+'/setup')\n",
    "        return json.loads(a.read())\n",
    "\n",
    "    def move(self,az_alt):\n",
    "        # move a small incriment\n",
    "        data = {'move': az_alt}\n",
    "        req = urllib2.Request(self.url+'/move')\n",
    "        req.add_header('Content-Type', 'application/json')\n",
    "\n",
    "        response = urllib2.urlopen(req, json.dumps(data))\n",
    "\n",
    "    \n",
    "#serv = server()\n",
    "#serv.set_targ([20,10])\n",
    "#serv.get_pos()\n",
    "#print serv.setup()\n",
    "serv.move([10,10])\n",
    "serv.move([10,10])\n",
    "print serv.get_pos()"
   ]
  }
 ],
 "metadata": {
  "kernelspec": {
   "display_name": "Python 2",
   "language": "python",
   "name": "python2"
  },
  "language_info": {
   "codemirror_mode": {
    "name": "ipython",
    "version": 2
   },
   "file_extension": ".py",
   "mimetype": "text/x-python",
   "name": "python",
   "nbconvert_exporter": "python",
   "pygments_lexer": "ipython2",
   "version": "2.7.12"
  }
 },
 "nbformat": 4,
 "nbformat_minor": 2
}
