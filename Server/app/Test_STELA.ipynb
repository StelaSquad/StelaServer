{
 "cells": [
  {
   "cell_type": "code",
   "execution_count": 1,
   "metadata": {
    "collapsed": true
   },
   "outputs": [],
   "source": [
    "import STELA\n",
    "import astropy.coordinates as cp\n",
    "import astropy.units as u"
   ]
  },
  {
   "cell_type": "code",
   "execution_count": 2,
   "metadata": {},
   "outputs": [],
   "source": [
    "st = STELA.STELA()"
   ]
  },
  {
   "cell_type": "code",
   "execution_count": 6,
   "metadata": {},
   "outputs": [
    {
     "name": "stdout",
     "output_type": "stream",
     "text": [
      "Testing internet connection...\n",
      "Connection succeeded!\n",
      "GJ catalog file found.\n",
      "NGC catalog file found.\n"
     ]
    },
    {
     "data": {
      "text/plain": [
       "<SkyCoord (AltAz: obstime=2018-04-13 02:10:33.617140, location=(-3553494.870904783, -4234890.278665873, 3170373.735383637) m, pressure=0.0 hPa, temperature=0.0 deg_C, relative_humidity=0, obswl=1.0 micron): (az, alt) in deg\n",
       "    [(185.84949652, 66.62636779), (227.83219973, 56.21335044),\n",
       "     (152.58889138, 65.26378912)]>"
      ]
     },
     "execution_count": 6,
     "metadata": {},
     "output_type": "execute_result"
    }
   ],
   "source": [
    "st.setup_cats()\n",
    "st.location=[-130*u.deg,30*u.deg]\n",
    "st.get_ref_stars()"
   ]
  },
  {
   "cell_type": "code",
   "execution_count": 7,
   "metadata": {
    "collapsed": true
   },
   "outputs": [],
   "source": [
    "st.lon_est=-130*u.deg\n",
    "st.lat_est=30*u.deg\n",
    "mock = st.gen_mock_obs()"
   ]
  },
  {
   "cell_type": "code",
   "execution_count": 12,
   "metadata": {},
   "outputs": [
    {
     "name": "stdout",
     "output_type": "stream",
     "text": [
      "\n",
      "[-130.6476877814826, 29.02502689671647]\n"
     ]
    }
   ],
   "source": [
    "print \n",
    "print st.home_coors"
   ]
  },
  {
   "cell_type": "code",
   "execution_count": 8,
   "metadata": {},
   "outputs": [
    {
     "name": "stdout",
     "output_type": "stream",
     "text": [
      "Running for lims: [[0.0, 6.28319], [-1.5708, 1.5708]]\n",
      "Running for lims: [[1.7136, 1.84053], [0.4789, 0.56789]]\n",
      "Running for lims: [[1.79491, 1.79892], [0.50549, 0.50805]]\n",
      "Running for lims: [[1.79483, 1.79812], [0.50599, 0.508]]\n",
      "Running for lims: [[1.79485, 1.7981], [0.50602, 0.50797]]\n",
      "Done.\n"
     ]
    }
   ],
   "source": [
    "st.triangulate(mock[0],mock[1])"
   ]
  }
 ],
 "metadata": {
  "kernelspec": {
   "display_name": "Python 2",
   "language": "python",
   "name": "python2"
  },
  "language_info": {
   "codemirror_mode": {
    "name": "ipython",
    "version": 2
   },
   "file_extension": ".py",
   "mimetype": "text/x-python",
   "name": "python",
   "nbconvert_exporter": "python",
   "pygments_lexer": "ipython2",
   "version": "2.7.12"
  }
 },
 "nbformat": 4,
 "nbformat_minor": 2
}
